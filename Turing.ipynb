{
  "nbformat": 4,
  "nbformat_minor": 0,
  "metadata": {
    "colab": {
      "provenance": []
    },
    "kernelspec": {
      "name": "python3",
      "display_name": "Python 3"
    },
    "language_info": {
      "name": "python"
    }
  },
  "cells": [
    {
      "cell_type": "code",
      "execution_count": null,
      "metadata": {
        "colab": {
          "base_uri": "https://localhost:8080/"
        },
        "id": "h2vJPVJD8Q6t",
        "outputId": "023dd911-81f8-4136-9260-4f2e8a0d8834"
      },
      "outputs": [
        {
          "output_type": "stream",
          "name": "stderr",
          "text": [
            "[nltk_data] Downloading package punkt to /root/nltk_data...\n",
            "[nltk_data]   Unzipping tokenizers/punkt.zip.\n"
          ]
        }
      ],
      "source": [
        "import nltk\n",
        "nltk.download('punkt')\n",
        "from nltk.stem import PorterStemmer\n",
        "stemmer = PorterStemmer()\n",
        "import tensorflow as tf\n",
        "import numpy as np\n",
        "import random\n",
        "import json"
      ]
    },
    {
      "cell_type": "code",
      "source": [
        "from google.colab import files\n",
        "files.upload()"
      ],
      "metadata": {
        "colab": {
          "base_uri": "https://localhost:8080/",
          "height": 923
        },
        "id": "VJs3Sjqs8U9m",
        "outputId": "25972cc9-5085-4e3c-e09f-6b5cb1c10eff"
      },
      "execution_count": null,
      "outputs": [
        {
          "output_type": "display_data",
          "data": {
            "text/plain": [
              "<IPython.core.display.HTML object>"
            ],
            "text/html": [
              "\n",
              "     <input type=\"file\" id=\"files-e105ad13-4bad-4faf-8a3e-010d17a5942b\" name=\"files[]\" multiple disabled\n",
              "        style=\"border:none\" />\n",
              "     <output id=\"result-e105ad13-4bad-4faf-8a3e-010d17a5942b\">\n",
              "      Upload widget is only available when the cell has been executed in the\n",
              "      current browser session. Please rerun this cell to enable.\n",
              "      </output>\n",
              "      <script>// Copyright 2017 Google LLC\n",
              "//\n",
              "// Licensed under the Apache License, Version 2.0 (the \"License\");\n",
              "// you may not use this file except in compliance with the License.\n",
              "// You may obtain a copy of the License at\n",
              "//\n",
              "//      http://www.apache.org/licenses/LICENSE-2.0\n",
              "//\n",
              "// Unless required by applicable law or agreed to in writing, software\n",
              "// distributed under the License is distributed on an \"AS IS\" BASIS,\n",
              "// WITHOUT WARRANTIES OR CONDITIONS OF ANY KIND, either express or implied.\n",
              "// See the License for the specific language governing permissions and\n",
              "// limitations under the License.\n",
              "\n",
              "/**\n",
              " * @fileoverview Helpers for google.colab Python module.\n",
              " */\n",
              "(function(scope) {\n",
              "function span(text, styleAttributes = {}) {\n",
              "  const element = document.createElement('span');\n",
              "  element.textContent = text;\n",
              "  for (const key of Object.keys(styleAttributes)) {\n",
              "    element.style[key] = styleAttributes[key];\n",
              "  }\n",
              "  return element;\n",
              "}\n",
              "\n",
              "// Max number of bytes which will be uploaded at a time.\n",
              "const MAX_PAYLOAD_SIZE = 100 * 1024;\n",
              "\n",
              "function _uploadFiles(inputId, outputId) {\n",
              "  const steps = uploadFilesStep(inputId, outputId);\n",
              "  const outputElement = document.getElementById(outputId);\n",
              "  // Cache steps on the outputElement to make it available for the next call\n",
              "  // to uploadFilesContinue from Python.\n",
              "  outputElement.steps = steps;\n",
              "\n",
              "  return _uploadFilesContinue(outputId);\n",
              "}\n",
              "\n",
              "// This is roughly an async generator (not supported in the browser yet),\n",
              "// where there are multiple asynchronous steps and the Python side is going\n",
              "// to poll for completion of each step.\n",
              "// This uses a Promise to block the python side on completion of each step,\n",
              "// then passes the result of the previous step as the input to the next step.\n",
              "function _uploadFilesContinue(outputId) {\n",
              "  const outputElement = document.getElementById(outputId);\n",
              "  const steps = outputElement.steps;\n",
              "\n",
              "  const next = steps.next(outputElement.lastPromiseValue);\n",
              "  return Promise.resolve(next.value.promise).then((value) => {\n",
              "    // Cache the last promise value to make it available to the next\n",
              "    // step of the generator.\n",
              "    outputElement.lastPromiseValue = value;\n",
              "    return next.value.response;\n",
              "  });\n",
              "}\n",
              "\n",
              "/**\n",
              " * Generator function which is called between each async step of the upload\n",
              " * process.\n",
              " * @param {string} inputId Element ID of the input file picker element.\n",
              " * @param {string} outputId Element ID of the output display.\n",
              " * @return {!Iterable<!Object>} Iterable of next steps.\n",
              " */\n",
              "function* uploadFilesStep(inputId, outputId) {\n",
              "  const inputElement = document.getElementById(inputId);\n",
              "  inputElement.disabled = false;\n",
              "\n",
              "  const outputElement = document.getElementById(outputId);\n",
              "  outputElement.innerHTML = '';\n",
              "\n",
              "  const pickedPromise = new Promise((resolve) => {\n",
              "    inputElement.addEventListener('change', (e) => {\n",
              "      resolve(e.target.files);\n",
              "    });\n",
              "  });\n",
              "\n",
              "  const cancel = document.createElement('button');\n",
              "  inputElement.parentElement.appendChild(cancel);\n",
              "  cancel.textContent = 'Cancel upload';\n",
              "  const cancelPromise = new Promise((resolve) => {\n",
              "    cancel.onclick = () => {\n",
              "      resolve(null);\n",
              "    };\n",
              "  });\n",
              "\n",
              "  // Wait for the user to pick the files.\n",
              "  const files = yield {\n",
              "    promise: Promise.race([pickedPromise, cancelPromise]),\n",
              "    response: {\n",
              "      action: 'starting',\n",
              "    }\n",
              "  };\n",
              "\n",
              "  cancel.remove();\n",
              "\n",
              "  // Disable the input element since further picks are not allowed.\n",
              "  inputElement.disabled = true;\n",
              "\n",
              "  if (!files) {\n",
              "    return {\n",
              "      response: {\n",
              "        action: 'complete',\n",
              "      }\n",
              "    };\n",
              "  }\n",
              "\n",
              "  for (const file of files) {\n",
              "    const li = document.createElement('li');\n",
              "    li.append(span(file.name, {fontWeight: 'bold'}));\n",
              "    li.append(span(\n",
              "        `(${file.type || 'n/a'}) - ${file.size} bytes, ` +\n",
              "        `last modified: ${\n",
              "            file.lastModifiedDate ? file.lastModifiedDate.toLocaleDateString() :\n",
              "                                    'n/a'} - `));\n",
              "    const percent = span('0% done');\n",
              "    li.appendChild(percent);\n",
              "\n",
              "    outputElement.appendChild(li);\n",
              "\n",
              "    const fileDataPromise = new Promise((resolve) => {\n",
              "      const reader = new FileReader();\n",
              "      reader.onload = (e) => {\n",
              "        resolve(e.target.result);\n",
              "      };\n",
              "      reader.readAsArrayBuffer(file);\n",
              "    });\n",
              "    // Wait for the data to be ready.\n",
              "    let fileData = yield {\n",
              "      promise: fileDataPromise,\n",
              "      response: {\n",
              "        action: 'continue',\n",
              "      }\n",
              "    };\n",
              "\n",
              "    // Use a chunked sending to avoid message size limits. See b/62115660.\n",
              "    let position = 0;\n",
              "    do {\n",
              "      const length = Math.min(fileData.byteLength - position, MAX_PAYLOAD_SIZE);\n",
              "      const chunk = new Uint8Array(fileData, position, length);\n",
              "      position += length;\n",
              "\n",
              "      const base64 = btoa(String.fromCharCode.apply(null, chunk));\n",
              "      yield {\n",
              "        response: {\n",
              "          action: 'append',\n",
              "          file: file.name,\n",
              "          data: base64,\n",
              "        },\n",
              "      };\n",
              "\n",
              "      let percentDone = fileData.byteLength === 0 ?\n",
              "          100 :\n",
              "          Math.round((position / fileData.byteLength) * 100);\n",
              "      percent.textContent = `${percentDone}% done`;\n",
              "\n",
              "    } while (position < fileData.byteLength);\n",
              "  }\n",
              "\n",
              "  // All done.\n",
              "  yield {\n",
              "    response: {\n",
              "      action: 'complete',\n",
              "    }\n",
              "  };\n",
              "}\n",
              "\n",
              "scope.google = scope.google || {};\n",
              "scope.google.colab = scope.google.colab || {};\n",
              "scope.google.colab._files = {\n",
              "  _uploadFiles,\n",
              "  _uploadFilesContinue,\n",
              "};\n",
              "})(self);\n",
              "</script> "
            ]
          },
          "metadata": {}
        },
        {
          "output_type": "stream",
          "name": "stdout",
          "text": [
            "Saving intents.json to intents.json\n"
          ]
        },
        {
          "output_type": "execute_result",
          "data": {
            "text/plain": [
              "{'intents.json': b'{\\r\\n        \"intents\": [\\r\\n            {\\r\\n                \"tag\": \"greeting\",\\r\\n                \"patterns\": [\\r\\n                    \"Hi\",\\r\\n                    \"How are you\",\\r\\n                    \"Is anyone there?\",\\r\\n                    \"Hello\",\\r\\n                    \"Good day\"\\r\\n                ],\\r\\n                \"responses\": [\\r\\n                    \"Hello, thanks for visiting\",\\r\\n                    \"Good to see you again\",\\r\\n                    \"Hi there, how can I help?\"\\r\\n                ]\\r\\n            },\\r\\n            {\\r\\n                \"tag\": \"goodbye\",\\r\\n                \"patterns\": [\\r\\n                    \"Bye\",\\r\\n                    \"See you later\",\\r\\n                    \"Goodbye\"\\r\\n                ],\\r\\n                \"responses\": [\\r\\n                    \"See you later, thanks for visiting\",\\r\\n                    \"Have a nice day\",\\r\\n                    \"Bye! Come back again soon.\"\\r\\n                ]\\r\\n            },\\r\\n            {\\r\\n                \"tag\": \"thanks\",\\r\\n                \"patterns\": [\\r\\n                    \"Thanks\",\\r\\n                    \"Thank you\",\\r\\n                    \"That\\'s helpful\"\\r\\n                ],\\r\\n                \"responses\": [\\r\\n                    \"Happy to help!\",\\r\\n                    \"Any time!\",\\r\\n                    \"My pleasure\"\\r\\n                ]\\r\\n            },\\r\\n            {\\r\\n                \"tag\": \"chatbot\",\\r\\n                \"patterns\": [\\r\\n                    \"Who built this chatbot?\",\\r\\n                    \"Tell me about Chatbot\",\\r\\n                    \"Who developed this Chatbot?\"\\r\\n                ],\\r\\n                \"responses\": [\\r\\n                    \"Hi, I am a Chatbot designed by Ankit.\",\\r\\n                    \"Thanks for asking. I am designed by Ankit Kumar.\",\\r\\n                    \"I am a chatbot. I was designed by Ankit.\"\\r\\n                ]\\r\\n            },\\r\\n            {\\r\\n                \"tag\": \"name\",\\r\\n                \"patterns\": [\\r\\n                    \"What is the name of this Chatbot?\",\\r\\n                    \"Tell me your name?\",\\r\\n                    \"Do you have a name?\"\\r\\n                ],\\r\\n                \"responses\": [\\r\\n                    \"Hi, I am Turing.\",\\r\\n                    \"Thanks for asking. My name is Turing.\",\\r\\n                    \"You can call me Turing. I was named after the famous scientist who remained unknown for 50 years.\"\\r\\n                ]\\r\\n            },\\r\\n            {\\r\\n                \"tag\": \"location\",\\r\\n                \"patterns\": [\\r\\n                    \"What is your location?\",\\r\\n                    \"Where are you located?\",\\r\\n                    \"What is your address?\"\\r\\n                ],\\r\\n                \"responses\": [\\r\\n                    \"I was trained and developed in Bhubaneswar, India\",\\r\\n                    \"You can visit Bhubaneswar, India to meet me and my Source Code\",\\r\\n                    \"Thanks for your Interest. I live in India.\"\\r\\n                ]\\r\\n            },\\r\\n            {\\r\\n                \"tag\": \"connect\",\\r\\n                \"patterns\": [\\r\\n                    \"Give me your social media accounts link\",\\r\\n                    \"Where can we connect?\",\\r\\n                    \"How can I reach out to you?\",\\r\\n                    \"Is there any way we can connect?\"\\r\\n                ],\\r\\n                \"responses\": [\\r\\n                    \"You can connect with me on Linkedin \\\\n Linkedin - https://www.linkedin.com/in/ankit-kumar-5b9732283\", \\r\\n                    \"You can find me on Github \\\\n Github - https://github.com/Zetaaaaaa\",\\r\\n                    \"You can email me at ankjsr938@gmail.com \"\\r\\n                ]\\r\\n            },\\r\\n            {\\r\\n                \"tag\": \"movies\",\\r\\n                \"patterns\": [\\r\\n                    \"Which is your favorite movie?\",\\r\\n                    \"Suggest me some movies\",\\r\\n                    \"Recommend movies\"\\r\\n                ],\\r\\n                \"responses\": [\\r\\n                    \"Try Fight Club!\",\\r\\n                    \"Have you seen Equilibrium?\",\\r\\n                    \"If you wish to watch a good trilogy, you should try Godfather trilogy!\",\\r\\n                    \"If you like Superheroes, Dark Knight trilogy is a must watch for you!\",\\r\\n                    \"Se7en is an amazing thriller!\",\\r\\n                    \"Shawshank Redemption is one of the best movies ever!\",\\r\\n                    \"If you like Bollywood, you should try Swades!\",\\r\\n                    \"Anand is probably the best that Bollywood ever came up with!\"\\r\\n                ]\\r\\n            },\\r\\n            {\\r\\n                \"tag\": \"about\",\\r\\n                \"patterns\": [\\r\\n                    \"Who are you?\",\\r\\n                    \"Tell me about Yourself\",\\r\\n                    \"What is this?\"\\r\\n                ],\\r\\n                \"responses\": [\\r\\n                    \"Hi, I am Ankit. Nice to meet you. I made this chatbot for a project for my Tools and Techniques lab.\",\\r\\n                    \"Thanks for asking. I am Ankit Kumar, 3rd year CS Undergrad from KIIT University.\"\\r\\n                ]\\r\\n            },\\r\\n            {\\r\\n                \"tag\": \"jokes\",\\r\\n                \"patterns\": [\\r\\n                    \"Tell me a joke\",\\r\\n                    \"Do you know any jokes?\",\\r\\n                    \"Make me laugh\"\\r\\n                ],\\r\\n                \"responses\": [\\r\\n                    \"Why don\\'t scientists trust atoms? Because they make up everything!\",\\r\\n                    \"What do you get when you cross a snowman and a vampire? Frostbite!\",\\r\\n                    \"I\\'m reading a book on anti-gravity. It\\'s impossible to put down!\",\\r\\n                    \"Why did the scarecrow win an award? Because he was outstanding in his field!\"\\r\\n                ]\\r\\n            },\\r\\n            {\\r\\n                \"tag\": \"music\",\\r\\n                \"patterns\": [\\r\\n                    \"Recommend some music\",\\r\\n                    \"What\\'s your favorite song?\",\\r\\n                    \"Play me some music\"\\r\\n                ],\\r\\n                \"responses\": [\\r\\n                    \"I can\\'t play music, but I can recommend some great songs! How about \\'Bohemian Rhapsody\\' by Queen?\",\\r\\n                    \"One of my favorite songs is \\'Hotel California\\' by The Eagles.\",\\r\\n                    \"Have you heard \\'Stairway to Heaven\\' by Led Zeppelin? It\\'s a classic!\",\\r\\n                    \"You should try \\'Another one bites the dust\\' by Queen!\",\\r\\n                    \"Have you ever given a try to \\'Talk\\' by Hozier?\",\\r\\n                    \"I would suggest \\'Heaven and Hell\\' by Kanye West!\",\\r\\n                    \"You should make an attempt at \\'In The End\\' by Linkin Park!\"\\r\\n                ]\\r\\n            },\\r\\n            {\\r\\n                \"tag\": \"food\",\\r\\n                \"patterns\": [\\r\\n                    \"I\\'m hungry\",\\r\\n                    \"Recommend some food\",\\r\\n                    \"What\\'s for dinner?\"\\r\\n                ],\\r\\n                \"responses\": [\\r\\n                    \"How about ordering some pizza?\",\\r\\n                    \"You could try cooking a simple pasta dish!\",\\r\\n                    \"Have you considered making a sandwich? It\\'s quick and easy!\"\\r\\n                ]\\r\\n            }\\r\\n        ]\\r\\n    }\\r\\n    '}"
            ]
          },
          "metadata": {},
          "execution_count": 2
        }
      ]
    },
    {
      "cell_type": "code",
      "source": [
        "with open('intents.json') as json_data:\n",
        "    intents = json.load(json_data)"
      ],
      "metadata": {
        "id": "ps9XFAg38l3I"
      },
      "execution_count": null,
      "outputs": []
    },
    {
      "cell_type": "code",
      "source": [
        "intents"
      ],
      "metadata": {
        "colab": {
          "base_uri": "https://localhost:8080/"
        },
        "id": "0TKqLIi-URmG",
        "outputId": "189a2255-573f-49fb-cba5-5fc79a3419e1"
      },
      "execution_count": null,
      "outputs": [
        {
          "output_type": "execute_result",
          "data": {
            "text/plain": [
              "{'intents': [{'tag': 'greeting',\n",
              "   'patterns': ['Hi', 'How are you', 'Is anyone there?', 'Hello', 'Good day'],\n",
              "   'responses': ['Hello, thanks for visiting',\n",
              "    'Good to see you again',\n",
              "    'Hi there, how can I help?']},\n",
              "  {'tag': 'goodbye',\n",
              "   'patterns': ['Bye', 'See you later', 'Goodbye'],\n",
              "   'responses': ['See you later, thanks for visiting',\n",
              "    'Have a nice day',\n",
              "    'Bye! Come back again soon.']},\n",
              "  {'tag': 'thanks',\n",
              "   'patterns': ['Thanks', 'Thank you', \"That's helpful\"],\n",
              "   'responses': ['Happy to help!', 'Any time!', 'My pleasure']},\n",
              "  {'tag': 'chatbot',\n",
              "   'patterns': ['Who built this chatbot?',\n",
              "    'Tell me about Chatbot',\n",
              "    'Who developed this Chatbot?'],\n",
              "   'responses': ['Hi, I am a Chatbot designed by Ankit.',\n",
              "    'Thanks for asking. I am designed by Ankit Kumar.',\n",
              "    'I am a chatbot. I was designed by Ankit.']},\n",
              "  {'tag': 'name',\n",
              "   'patterns': ['What is the name of this Chatbot?',\n",
              "    'Tell me your name?',\n",
              "    'Do you have a name?'],\n",
              "   'responses': ['Hi, I am Turing.',\n",
              "    'Thanks for asking. My name is Turing.',\n",
              "    'You can call me Turing. I was named after the famous scientist who remained unknown for 50 years.']},\n",
              "  {'tag': 'location',\n",
              "   'patterns': ['What is your location?',\n",
              "    'Where are you located?',\n",
              "    'What is your address?'],\n",
              "   'responses': ['I was trained and developed in Bhubaneswar, India',\n",
              "    'You can visit Bhubaneswar, India to meet me and my Source Code',\n",
              "    'Thanks for your Interest. I live in India.']},\n",
              "  {'tag': 'connect',\n",
              "   'patterns': ['Give me your social media accounts link',\n",
              "    'Where can we connect?',\n",
              "    'How can I reach out to you?',\n",
              "    'Is there any way we can connect?'],\n",
              "   'responses': ['You can connect with me on Linkedin \\n Linkedin - https://www.linkedin.com/in/ankit-kumar-5b9732283',\n",
              "    'You can find me on Github \\n Github - https://github.com/Zetaaaaaa',\n",
              "    'You can email me at ankjsr938@gmail.com ']},\n",
              "  {'tag': 'movies',\n",
              "   'patterns': ['Which is your favorite movie?',\n",
              "    'Suggest me some movies',\n",
              "    'Recommend movies'],\n",
              "   'responses': ['Try Fight Club!',\n",
              "    'Have you seen Equilibrium?',\n",
              "    'If you wish to watch a good trilogy, you should try Godfather trilogy!',\n",
              "    'If you like Superheroes, Dark Knight trilogy is a must watch for you!',\n",
              "    'Se7en is an amazing thriller!',\n",
              "    'Shawshank Redemption is one of the best movies ever!',\n",
              "    'If you like Bollywood, you should try Swades!',\n",
              "    'Anand is probably the best that Bollywood ever came up with!']},\n",
              "  {'tag': 'about',\n",
              "   'patterns': ['Who are you?', 'Tell me about Yourself', 'What is this?'],\n",
              "   'responses': ['Hi, I am Ankit. Nice to meet you. I made this chatbot for a project for my Tools and Techniques lab.',\n",
              "    'Thanks for asking. I am Ankit Kumar, 3rd year CS Undergrad from KIIT University.']},\n",
              "  {'tag': 'jokes',\n",
              "   'patterns': ['Tell me a joke', 'Do you know any jokes?', 'Make me laugh'],\n",
              "   'responses': [\"Why don't scientists trust atoms? Because they make up everything!\",\n",
              "    'What do you get when you cross a snowman and a vampire? Frostbite!',\n",
              "    \"I'm reading a book on anti-gravity. It's impossible to put down!\",\n",
              "    'Why did the scarecrow win an award? Because he was outstanding in his field!']},\n",
              "  {'tag': 'music',\n",
              "   'patterns': ['Recommend some music',\n",
              "    \"What's your favorite song?\",\n",
              "    'Play me some music'],\n",
              "   'responses': [\"I can't play music, but I can recommend some great songs! How about 'Bohemian Rhapsody' by Queen?\",\n",
              "    \"One of my favorite songs is 'Hotel California' by The Eagles.\",\n",
              "    \"Have you heard 'Stairway to Heaven' by Led Zeppelin? It's a classic!\",\n",
              "    \"You should try 'Another one bites the dust' by Queen!\",\n",
              "    \"Have you ever given a try to 'Talk' by Hozier?\",\n",
              "    \"I would suggest 'Heaven and Hell' by Kanye West!\",\n",
              "    \"You should make an attempt at 'In The End' by Linkin Park!\"]},\n",
              "  {'tag': 'food',\n",
              "   'patterns': [\"I'm hungry\", 'Recommend some food', \"What's for dinner?\"],\n",
              "   'responses': ['How about ordering some pizza?',\n",
              "    'You could try cooking a simple pasta dish!',\n",
              "    \"Have you considered making a sandwich? It's quick and easy!\"]}]}"
            ]
          },
          "metadata": {},
          "execution_count": 4
        }
      ]
    },
    {
      "cell_type": "code",
      "source": [
        "words = []\n",
        "classes = []\n",
        "documents = []\n",
        "ignore = ['?']\n",
        "for intent in intents['intents']:\n",
        "    for pattern in intent['patterns']:\n",
        "        w = nltk.word_tokenize(pattern)\n",
        "        words.extend(w)\n",
        "        documents.append((w, intent['tag']))\n",
        "        if intent['tag'] not in classes:\n",
        "            classes.append(intent['tag'])"
      ],
      "metadata": {
        "id": "lC0fdvyRUTsN"
      },
      "execution_count": null,
      "outputs": []
    },
    {
      "cell_type": "code",
      "source": [
        "words = [stemmer.stem(w.lower()) for w in words if w not in ignore]\n",
        "words = sorted(list(set(words)))\n",
        "classes = sorted(list(set(classes)))\n",
        "\n",
        "print (len(documents), \"documents\")\n",
        "print (len(classes), \"classes\", classes)\n",
        "print (len(words), \"unique stemmed words\", words)"
      ],
      "metadata": {
        "colab": {
          "base_uri": "https://localhost:8080/"
        },
        "id": "_ZcpKcATUhtm",
        "outputId": "056402b5-8ae7-412b-c4f7-9eb80981a087"
      },
      "execution_count": null,
      "outputs": [
        {
          "output_type": "stream",
          "name": "stdout",
          "text": [
            "39 documents\n",
            "12 classes ['about', 'chatbot', 'connect', 'food', 'goodbye', 'greeting', 'jokes', 'location', 'movies', 'music', 'name', 'thanks']\n",
            "70 unique stemmed words [\"'m\", \"'s\", 'a', 'about', 'account', 'address', 'ani', 'anyon', 'are', 'built', 'bye', 'can', 'chatbot', 'connect', 'day', 'develop', 'dinner', 'do', 'favorit', 'food', 'for', 'give', 'good', 'goodby', 'have', 'hello', 'help', 'hi', 'how', 'hungri', 'i', 'is', 'joke', 'know', 'later', 'laugh', 'link', 'locat', 'make', 'me', 'media', 'movi', 'music', 'name', 'of', 'out', 'play', 'reach', 'recommend', 'see', 'social', 'some', 'song', 'suggest', 'tell', 'thank', 'that', 'the', 'there', 'thi', 'to', 'way', 'we', 'what', 'where', 'which', 'who', 'you', 'your', 'yourself']\n"
          ]
        }
      ]
    },
    {
      "cell_type": "code",
      "source": [
        "training = []\n",
        "output = []\n",
        "output_empty = [0] * len(classes)\n",
        "\n",
        "for doc in documents:\n",
        "    bag = []\n",
        "    pattern_words = doc[0]\n",
        "    pattern_words = [stemmer.stem(word.lower()) for word in pattern_words]\n",
        "    for w in words:\n",
        "        bag.append(1) if w in pattern_words else bag.append(0)\n",
        "\n",
        "    output_row = list(output_empty)\n",
        "    output_row[classes.index(doc[1])] = 1\n",
        "\n",
        "    training.append([bag, output_row])\n",
        "\n",
        "random.shuffle(training)\n",
        "training = np.array(training)\n",
        "\n",
        "train_x = list(training[:,0])\n",
        "train_y = list(training[:,1])"
      ],
      "metadata": {
        "colab": {
          "base_uri": "https://localhost:8080/"
        },
        "id": "Tkm3blM1Ujdc",
        "outputId": "d10d042c-e68d-46be-fde4-48e27a988a20"
      },
      "execution_count": null,
      "outputs": [
        {
          "output_type": "stream",
          "name": "stderr",
          "text": [
            "<ipython-input-7-f4723073c0fd>:18: VisibleDeprecationWarning: Creating an ndarray from ragged nested sequences (which is a list-or-tuple of lists-or-tuples-or ndarrays with different lengths or shapes) is deprecated. If you meant to do this, you must specify 'dtype=object' when creating the ndarray.\n",
            "  training = np.array(training)\n"
          ]
        }
      ]
    },
    {
      "cell_type": "code",
      "source": [
        "model = tf.keras.Sequential()\n",
        "model.add(tf.keras.layers.Dense(10,input_shape=(len(train_x[0]),)))\n",
        "model.add(tf.keras.layers.Dense(10))\n",
        "model.add(tf.keras.layers.Dense(len(train_y[0]), activation='softmax'))\n",
        "model.compile(tf.keras.optimizers.Adam(), loss='categorical_crossentropy', metrics=['accuracy'])"
      ],
      "metadata": {
        "id": "AezzBSdOUmDm"
      },
      "execution_count": null,
      "outputs": []
    },
    {
      "cell_type": "code",
      "source": [
        "model.fit(np.array(train_x), np.array(train_y), epochs=100, batch_size=8, verbose=1)\n",
        "model.save(\"model.pkl\")"
      ],
      "metadata": {
        "colab": {
          "base_uri": "https://localhost:8080/"
        },
        "id": "x_3DIWpYVVdC",
        "outputId": "bc583c27-d9b0-4f68-c8e2-76937191a456"
      },
      "execution_count": null,
      "outputs": [
        {
          "output_type": "stream",
          "name": "stdout",
          "text": [
            "Epoch 1/100\n",
            "5/5 [==============================] - 1s 5ms/step - loss: 2.4540 - accuracy: 0.1538\n",
            "Epoch 2/100\n",
            "5/5 [==============================] - 0s 3ms/step - loss: 2.4302 - accuracy: 0.1538\n",
            "Epoch 3/100\n",
            "5/5 [==============================] - 0s 4ms/step - loss: 2.4089 - accuracy: 0.1538\n",
            "Epoch 4/100\n",
            "5/5 [==============================] - 0s 3ms/step - loss: 2.3890 - accuracy: 0.1538\n",
            "Epoch 5/100\n",
            "5/5 [==============================] - 0s 3ms/step - loss: 2.3677 - accuracy: 0.1538\n",
            "Epoch 6/100\n",
            "5/5 [==============================] - 0s 3ms/step - loss: 2.3478 - accuracy: 0.2051\n",
            "Epoch 7/100\n",
            "5/5 [==============================] - 0s 3ms/step - loss: 2.3271 - accuracy: 0.2051\n",
            "Epoch 8/100\n",
            "5/5 [==============================] - 0s 3ms/step - loss: 2.3073 - accuracy: 0.2051\n",
            "Epoch 9/100\n",
            "5/5 [==============================] - 0s 3ms/step - loss: 2.2884 - accuracy: 0.2051\n",
            "Epoch 10/100\n",
            "5/5 [==============================] - 0s 3ms/step - loss: 2.2668 - accuracy: 0.2308\n",
            "Epoch 11/100\n",
            "5/5 [==============================] - 0s 3ms/step - loss: 2.2460 - accuracy: 0.3590\n",
            "Epoch 12/100\n",
            "5/5 [==============================] - 0s 3ms/step - loss: 2.2273 - accuracy: 0.3846\n",
            "Epoch 13/100\n",
            "5/5 [==============================] - 0s 4ms/step - loss: 2.2048 - accuracy: 0.3846\n",
            "Epoch 14/100\n",
            "5/5 [==============================] - 0s 3ms/step - loss: 2.1835 - accuracy: 0.3846\n",
            "Epoch 15/100\n",
            "5/5 [==============================] - 0s 3ms/step - loss: 2.1616 - accuracy: 0.3846\n",
            "Epoch 16/100\n",
            "5/5 [==============================] - 0s 4ms/step - loss: 2.1394 - accuracy: 0.4103\n",
            "Epoch 17/100\n",
            "5/5 [==============================] - 0s 4ms/step - loss: 2.1161 - accuracy: 0.4103\n",
            "Epoch 18/100\n",
            "5/5 [==============================] - 0s 3ms/step - loss: 2.0941 - accuracy: 0.4359\n",
            "Epoch 19/100\n",
            "5/5 [==============================] - 0s 5ms/step - loss: 2.0695 - accuracy: 0.4872\n",
            "Epoch 20/100\n",
            "5/5 [==============================] - 0s 3ms/step - loss: 2.0465 - accuracy: 0.5128\n",
            "Epoch 21/100\n",
            "5/5 [==============================] - 0s 3ms/step - loss: 2.0218 - accuracy: 0.5128\n",
            "Epoch 22/100\n",
            "5/5 [==============================] - 0s 3ms/step - loss: 1.9967 - accuracy: 0.5385\n",
            "Epoch 23/100\n",
            "5/5 [==============================] - 0s 3ms/step - loss: 1.9714 - accuracy: 0.5641\n",
            "Epoch 24/100\n",
            "5/5 [==============================] - 0s 3ms/step - loss: 1.9471 - accuracy: 0.5641\n",
            "Epoch 25/100\n",
            "5/5 [==============================] - 0s 3ms/step - loss: 1.9204 - accuracy: 0.5897\n",
            "Epoch 26/100\n",
            "5/5 [==============================] - 0s 3ms/step - loss: 1.8937 - accuracy: 0.6154\n",
            "Epoch 27/100\n",
            "5/5 [==============================] - 0s 4ms/step - loss: 1.8662 - accuracy: 0.6154\n",
            "Epoch 28/100\n",
            "5/5 [==============================] - 0s 3ms/step - loss: 1.8406 - accuracy: 0.5897\n",
            "Epoch 29/100\n",
            "5/5 [==============================] - 0s 3ms/step - loss: 1.8124 - accuracy: 0.5897\n",
            "Epoch 30/100\n",
            "5/5 [==============================] - 0s 3ms/step - loss: 1.7846 - accuracy: 0.6154\n",
            "Epoch 31/100\n",
            "5/5 [==============================] - 0s 3ms/step - loss: 1.7578 - accuracy: 0.6410\n",
            "Epoch 32/100\n",
            "5/5 [==============================] - 0s 3ms/step - loss: 1.7290 - accuracy: 0.6410\n",
            "Epoch 33/100\n",
            "5/5 [==============================] - 0s 4ms/step - loss: 1.7006 - accuracy: 0.7179\n",
            "Epoch 34/100\n",
            "5/5 [==============================] - 0s 3ms/step - loss: 1.6732 - accuracy: 0.7179\n",
            "Epoch 35/100\n",
            "5/5 [==============================] - 0s 3ms/step - loss: 1.6448 - accuracy: 0.7436\n",
            "Epoch 36/100\n",
            "5/5 [==============================] - 0s 3ms/step - loss: 1.6163 - accuracy: 0.7436\n",
            "Epoch 37/100\n",
            "5/5 [==============================] - 0s 3ms/step - loss: 1.5876 - accuracy: 0.7436\n",
            "Epoch 38/100\n",
            "5/5 [==============================] - 0s 5ms/step - loss: 1.5595 - accuracy: 0.7692\n",
            "Epoch 39/100\n",
            "5/5 [==============================] - 0s 4ms/step - loss: 1.5308 - accuracy: 0.7692\n",
            "Epoch 40/100\n",
            "5/5 [==============================] - 0s 3ms/step - loss: 1.5020 - accuracy: 0.7949\n",
            "Epoch 41/100\n",
            "5/5 [==============================] - 0s 4ms/step - loss: 1.4742 - accuracy: 0.8718\n",
            "Epoch 42/100\n",
            "5/5 [==============================] - 0s 3ms/step - loss: 1.4466 - accuracy: 0.8718\n",
            "Epoch 43/100\n",
            "5/5 [==============================] - 0s 3ms/step - loss: 1.4189 - accuracy: 0.8718\n",
            "Epoch 44/100\n",
            "5/5 [==============================] - 0s 3ms/step - loss: 1.3910 - accuracy: 0.8718\n",
            "Epoch 45/100\n",
            "5/5 [==============================] - 0s 4ms/step - loss: 1.3633 - accuracy: 0.8718\n",
            "Epoch 46/100\n",
            "5/5 [==============================] - 0s 3ms/step - loss: 1.3362 - accuracy: 0.8718\n",
            "Epoch 47/100\n",
            "5/5 [==============================] - 0s 3ms/step - loss: 1.3095 - accuracy: 0.8718\n",
            "Epoch 48/100\n",
            "5/5 [==============================] - 0s 3ms/step - loss: 1.2828 - accuracy: 0.8974\n",
            "Epoch 49/100\n",
            "5/5 [==============================] - 0s 3ms/step - loss: 1.2566 - accuracy: 0.9231\n",
            "Epoch 50/100\n",
            "5/5 [==============================] - 0s 3ms/step - loss: 1.2313 - accuracy: 0.9231\n",
            "Epoch 51/100\n",
            "5/5 [==============================] - 0s 4ms/step - loss: 1.2047 - accuracy: 0.9231\n",
            "Epoch 52/100\n",
            "5/5 [==============================] - 0s 3ms/step - loss: 1.1795 - accuracy: 0.9231\n",
            "Epoch 53/100\n",
            "5/5 [==============================] - 0s 4ms/step - loss: 1.1534 - accuracy: 0.9231\n",
            "Epoch 54/100\n",
            "5/5 [==============================] - 0s 4ms/step - loss: 1.1285 - accuracy: 0.9231\n",
            "Epoch 55/100\n",
            "5/5 [==============================] - 0s 5ms/step - loss: 1.1043 - accuracy: 0.9231\n",
            "Epoch 56/100\n",
            "5/5 [==============================] - 0s 3ms/step - loss: 1.0799 - accuracy: 0.9231\n",
            "Epoch 57/100\n",
            "5/5 [==============================] - 0s 4ms/step - loss: 1.0552 - accuracy: 0.9231\n",
            "Epoch 58/100\n",
            "5/5 [==============================] - 0s 3ms/step - loss: 1.0315 - accuracy: 0.9231\n",
            "Epoch 59/100\n",
            "5/5 [==============================] - 0s 3ms/step - loss: 1.0081 - accuracy: 0.9231\n",
            "Epoch 60/100\n",
            "5/5 [==============================] - 0s 4ms/step - loss: 0.9842 - accuracy: 0.9231\n",
            "Epoch 61/100\n",
            "5/5 [==============================] - 0s 4ms/step - loss: 0.9614 - accuracy: 0.9231\n",
            "Epoch 62/100\n",
            "5/5 [==============================] - 0s 3ms/step - loss: 0.9387 - accuracy: 0.9231\n",
            "Epoch 63/100\n",
            "5/5 [==============================] - 0s 3ms/step - loss: 0.9164 - accuracy: 0.9231\n",
            "Epoch 64/100\n",
            "5/5 [==============================] - 0s 4ms/step - loss: 0.8937 - accuracy: 0.9487\n",
            "Epoch 65/100\n",
            "5/5 [==============================] - 0s 3ms/step - loss: 0.8722 - accuracy: 0.9487\n",
            "Epoch 66/100\n",
            "5/5 [==============================] - 0s 4ms/step - loss: 0.8502 - accuracy: 0.9487\n",
            "Epoch 67/100\n",
            "5/5 [==============================] - 0s 4ms/step - loss: 0.8301 - accuracy: 0.9487\n",
            "Epoch 68/100\n",
            "5/5 [==============================] - 0s 3ms/step - loss: 0.8079 - accuracy: 0.9744\n",
            "Epoch 69/100\n",
            "5/5 [==============================] - 0s 4ms/step - loss: 0.7871 - accuracy: 1.0000\n",
            "Epoch 70/100\n",
            "5/5 [==============================] - 0s 4ms/step - loss: 0.7668 - accuracy: 1.0000\n",
            "Epoch 71/100\n",
            "5/5 [==============================] - 0s 4ms/step - loss: 0.7462 - accuracy: 1.0000\n",
            "Epoch 72/100\n",
            "5/5 [==============================] - 0s 4ms/step - loss: 0.7263 - accuracy: 1.0000\n",
            "Epoch 73/100\n",
            "5/5 [==============================] - 0s 4ms/step - loss: 0.7068 - accuracy: 1.0000\n",
            "Epoch 74/100\n",
            "5/5 [==============================] - 0s 4ms/step - loss: 0.6878 - accuracy: 1.0000\n",
            "Epoch 75/100\n",
            "5/5 [==============================] - 0s 4ms/step - loss: 0.6693 - accuracy: 1.0000\n",
            "Epoch 76/100\n",
            "5/5 [==============================] - 0s 3ms/step - loss: 0.6503 - accuracy: 1.0000\n",
            "Epoch 77/100\n",
            "5/5 [==============================] - 0s 4ms/step - loss: 0.6321 - accuracy: 1.0000\n",
            "Epoch 78/100\n",
            "5/5 [==============================] - 0s 4ms/step - loss: 0.6143 - accuracy: 1.0000\n",
            "Epoch 79/100\n",
            "5/5 [==============================] - 0s 4ms/step - loss: 0.5974 - accuracy: 1.0000\n",
            "Epoch 80/100\n",
            "5/5 [==============================] - 0s 4ms/step - loss: 0.5790 - accuracy: 1.0000\n",
            "Epoch 81/100\n",
            "5/5 [==============================] - 0s 4ms/step - loss: 0.5630 - accuracy: 1.0000\n",
            "Epoch 82/100\n",
            "5/5 [==============================] - 0s 5ms/step - loss: 0.5454 - accuracy: 1.0000\n",
            "Epoch 83/100\n",
            "5/5 [==============================] - 0s 4ms/step - loss: 0.5295 - accuracy: 1.0000\n",
            "Epoch 84/100\n",
            "5/5 [==============================] - 0s 4ms/step - loss: 0.5141 - accuracy: 1.0000\n",
            "Epoch 85/100\n",
            "5/5 [==============================] - 0s 4ms/step - loss: 0.4981 - accuracy: 1.0000\n",
            "Epoch 86/100\n",
            "5/5 [==============================] - 0s 4ms/step - loss: 0.4824 - accuracy: 1.0000\n",
            "Epoch 87/100\n",
            "5/5 [==============================] - 0s 4ms/step - loss: 0.4688 - accuracy: 1.0000\n",
            "Epoch 88/100\n",
            "5/5 [==============================] - 0s 4ms/step - loss: 0.4540 - accuracy: 1.0000\n",
            "Epoch 89/100\n",
            "5/5 [==============================] - 0s 4ms/step - loss: 0.4394 - accuracy: 1.0000\n",
            "Epoch 90/100\n",
            "5/5 [==============================] - 0s 4ms/step - loss: 0.4257 - accuracy: 1.0000\n",
            "Epoch 91/100\n",
            "5/5 [==============================] - 0s 4ms/step - loss: 0.4125 - accuracy: 1.0000\n",
            "Epoch 92/100\n",
            "5/5 [==============================] - 0s 4ms/step - loss: 0.3986 - accuracy: 1.0000\n",
            "Epoch 93/100\n",
            "5/5 [==============================] - 0s 4ms/step - loss: 0.3863 - accuracy: 1.0000\n",
            "Epoch 94/100\n",
            "5/5 [==============================] - 0s 4ms/step - loss: 0.3740 - accuracy: 1.0000\n",
            "Epoch 95/100\n",
            "5/5 [==============================] - 0s 4ms/step - loss: 0.3624 - accuracy: 1.0000\n",
            "Epoch 96/100\n",
            "5/5 [==============================] - 0s 4ms/step - loss: 0.3506 - accuracy: 1.0000\n",
            "Epoch 97/100\n",
            "5/5 [==============================] - 0s 4ms/step - loss: 0.3400 - accuracy: 1.0000\n",
            "Epoch 98/100\n",
            "5/5 [==============================] - 0s 3ms/step - loss: 0.3280 - accuracy: 1.0000\n",
            "Epoch 99/100\n",
            "5/5 [==============================] - 0s 3ms/step - loss: 0.3185 - accuracy: 1.0000\n",
            "Epoch 100/100\n",
            "5/5 [==============================] - 0s 5ms/step - loss: 0.3074 - accuracy: 1.0000\n"
          ]
        }
      ]
    },
    {
      "cell_type": "code",
      "source": [
        "import pickle\n",
        "pickle.dump( {'words':words, 'classes':classes}, open( \"training_data\", \"wb\" ) )"
      ],
      "metadata": {
        "id": "q5C8T3UjVXon"
      },
      "execution_count": null,
      "outputs": []
    },
    {
      "cell_type": "code",
      "source": [
        "from keras.models import load_model\n",
        "model = load_model(\"model.pkl\")"
      ],
      "metadata": {
        "id": "qe-jWb_WVeR-"
      },
      "execution_count": null,
      "outputs": []
    },
    {
      "cell_type": "code",
      "source": [
        "data = pickle.load( open( \"training_data\", \"rb\" ) )\n",
        "words = data['words']\n",
        "classes = data['classes']"
      ],
      "metadata": {
        "id": "-ttFaWFeVgAE"
      },
      "execution_count": null,
      "outputs": []
    },
    {
      "cell_type": "code",
      "source": [
        "with open('intents.json') as json_data:\n",
        "    intents = json.load(json_data)"
      ],
      "metadata": {
        "id": "IWPC_9gEViO6"
      },
      "execution_count": null,
      "outputs": []
    },
    {
      "cell_type": "code",
      "source": [
        "def clean_up_sentence(sentence):\n",
        "\n",
        "    sentence_words = nltk.word_tokenize(sentence)\n",
        "    sentence_words = [stemmer.stem(word.lower()) for word in sentence_words]\n",
        "    return sentence_words\n",
        "\n",
        "def bow(sentence, words):\n",
        "    sentence_words = clean_up_sentence(sentence)\n",
        "    bag = [0]*len(words)\n",
        "    for s in sentence_words:\n",
        "        for i,w in enumerate(words):\n",
        "            if w == s:\n",
        "                bag[i] = 1\n",
        "    bag=np.array(bag)\n",
        "    return(bag)"
      ],
      "metadata": {
        "id": "blLQhTVyVl4R"
      },
      "execution_count": null,
      "outputs": []
    },
    {
      "cell_type": "code",
      "source": [
        "ERROR_THRESHOLD = 0.30\n",
        "def classify(sentence):\n",
        "    bag = bow(sentence, words)\n",
        "    results = model.predict(np.array([bag]))\n",
        "    results = [[i,r] for i,r in enumerate(results[0]) if r>ERROR_THRESHOLD]\n",
        "    results.sort(key=lambda x: x[1], reverse=True)\n",
        "    return_list = []\n",
        "    for r in results:\n",
        "        return_list.append((classes[r[0]], r[1]))\n",
        "    return return_list\n",
        "\n",
        "def response(sentence):\n",
        "    results = classify(sentence)\n",
        "    if results:\n",
        "        while results:\n",
        "            for i in intents['intents']:\n",
        "                if i['tag'] == results[0][0]:\n",
        "                    return print(random.choice(i['responses']))\n",
        "\n",
        "            results.pop(0)"
      ],
      "metadata": {
        "id": "SuAhFMPbVqbV"
      },
      "execution_count": null,
      "outputs": []
    },
    {
      "cell_type": "code",
      "source": [
        "response('How are you?')"
      ],
      "metadata": {
        "colab": {
          "base_uri": "https://localhost:8080/"
        },
        "id": "bGEYsE9fVslq",
        "outputId": "8cc66282-eae5-4d61-8277-58bc09e13f0a"
      },
      "execution_count": null,
      "outputs": [
        {
          "output_type": "stream",
          "name": "stdout",
          "text": [
            "1/1 [==============================] - 0s 93ms/step\n",
            "Good to see you again\n"
          ]
        }
      ]
    },
    {
      "cell_type": "code",
      "source": [
        "response('Suggest me a movie')"
      ],
      "metadata": {
        "colab": {
          "base_uri": "https://localhost:8080/"
        },
        "id": "z3qGuORQVxUZ",
        "outputId": "aaaa9c39-3f03-4642-d9f8-05c4a6391a59"
      },
      "execution_count": null,
      "outputs": [
        {
          "output_type": "stream",
          "name": "stdout",
          "text": [
            "1/1 [==============================] - 0s 24ms/step\n",
            "Shawshank Redemption is one of the best movies ever!\n"
          ]
        }
      ]
    },
    {
      "cell_type": "code",
      "source": [
        "response('Tell me a joke')"
      ],
      "metadata": {
        "colab": {
          "base_uri": "https://localhost:8080/"
        },
        "id": "9QNBw-TeV0tb",
        "outputId": "850bc9c9-92fd-46da-cd70-35fc11727ea9"
      },
      "execution_count": null,
      "outputs": [
        {
          "output_type": "stream",
          "name": "stdout",
          "text": [
            "1/1 [==============================] - 0s 21ms/step\n",
            "I'm reading a book on anti-gravity. It's impossible to put down!\n"
          ]
        }
      ]
    },
    {
      "cell_type": "code",
      "source": [
        "response('Who developed this Chatbot?')"
      ],
      "metadata": {
        "colab": {
          "base_uri": "https://localhost:8080/"
        },
        "id": "X2-oT7AhV92n",
        "outputId": "547489d4-41f5-49bc-a6e5-a58e5d637b85"
      },
      "execution_count": null,
      "outputs": [
        {
          "output_type": "stream",
          "name": "stdout",
          "text": [
            "1/1 [==============================] - 0s 32ms/step\n",
            "Thanks for asking. I am designed by Ankit Kumar.\n"
          ]
        }
      ]
    },
    {
      "cell_type": "code",
      "source": [
        "response('Do you have a name?')"
      ],
      "metadata": {
        "colab": {
          "base_uri": "https://localhost:8080/"
        },
        "id": "3-KF2l8RWJzZ",
        "outputId": "7f6f908f-6906-4ce1-a0af-a18f08b9ef78"
      },
      "execution_count": null,
      "outputs": [
        {
          "output_type": "stream",
          "name": "stdout",
          "text": [
            "1/1 [==============================] - 0s 20ms/step\n",
            "You can call me Turing. I was named after the famous scientist who remained unknown for 50 years.\n"
          ]
        }
      ]
    },
    {
      "cell_type": "code",
      "source": [
        "response('Okay. Bye')"
      ],
      "metadata": {
        "colab": {
          "base_uri": "https://localhost:8080/"
        },
        "id": "SRECZdR3WN03",
        "outputId": "acee9643-8c72-4ab9-ab88-766d2f8361d7"
      },
      "execution_count": null,
      "outputs": [
        {
          "output_type": "stream",
          "name": "stdout",
          "text": [
            "1/1 [==============================] - 0s 21ms/step\n",
            "Have a nice day\n"
          ]
        }
      ]
    },
    {
      "cell_type": "code",
      "source": [],
      "metadata": {
        "id": "A6lNc6GAWRS-"
      },
      "execution_count": null,
      "outputs": []
    }
  ]
}